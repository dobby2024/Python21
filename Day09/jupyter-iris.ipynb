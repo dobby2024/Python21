{
 "cells": [
  {
   "cell_type": "code",
   "execution_count": 1,
   "id": "55e76e37",
   "metadata": {},
   "outputs": [
    {
     "name": "stdout",
     "output_type": "stream",
     "text": [
      "Hello, Python!\n"
     ]
    }
   ],
   "source": [
    "print(\"Hello, Python!\")"
   ]
  },
  {
   "cell_type": "code",
   "execution_count": 2,
   "id": "f02dd0cb",
   "metadata": {},
   "outputs": [
    {
     "name": "stdout",
     "output_type": "stream",
     "text": [
      "Requirement already satisfied: numpy in c:\\users\\itsc\\appdata\\local\\programs\\python\\python311\\lib\\site-packages (1.24.1)\n",
      "Collecting pandas\n",
      "  Downloading pandas-2.0.1-cp311-cp311-win_amd64.whl (10.6 MB)\n",
      "                                              0.0/10.6 MB ? eta -:--:--\n",
      "     -                                        0.4/10.6 MB 13.1 MB/s eta 0:00:01\n",
      "     ---                                      1.0/10.6 MB 12.5 MB/s eta 0:00:01\n",
      "     -----                                    1.5/10.6 MB 12.1 MB/s eta 0:00:01\n",
      "     -------                                  2.1/10.6 MB 12.1 MB/s eta 0:00:01\n",
      "     ----------                               2.7/10.6 MB 12.1 MB/s eta 0:00:01\n",
      "     ------------                             3.2/10.6 MB 12.1 MB/s eta 0:00:01\n",
      "     --------------                           3.8/10.6 MB 12.2 MB/s eta 0:00:01\n",
      "     ----------------                         4.4/10.6 MB 12.1 MB/s eta 0:00:01\n",
      "     ------------------                       4.9/10.6 MB 12.1 MB/s eta 0:00:01\n",
      "     --------------------                     5.5/10.6 MB 12.1 MB/s eta 0:00:01\n",
      "     ----------------------                   6.1/10.6 MB 12.1 MB/s eta 0:00:01\n",
      "     -------------------------                6.6/10.6 MB 12.1 MB/s eta 0:00:01\n",
      "     ---------------------------              7.2/10.6 MB 12.1 MB/s eta 0:00:01\n",
      "     -----------------------------            7.8/10.6 MB 12.1 MB/s eta 0:00:01\n",
      "     -------------------------------          8.3/10.6 MB 12.1 MB/s eta 0:00:01\n",
      "     ---------------------------------        8.9/10.6 MB 12.1 MB/s eta 0:00:01\n",
      "     -----------------------------------      9.4/10.6 MB 12.0 MB/s eta 0:00:01\n",
      "     ------------------------------------    10.0/10.6 MB 12.0 MB/s eta 0:00:01\n",
      "     --------------------------------------  10.5/10.6 MB 11.9 MB/s eta 0:00:01\n",
      "     --------------------------------------  10.6/10.6 MB 11.9 MB/s eta 0:00:01\n",
      "     --------------------------------------- 10.6/10.6 MB 11.1 MB/s eta 0:00:00\n",
      "Requirement already satisfied: python-dateutil>=2.8.2 in c:\\users\\itsc\\appdata\\local\\programs\\python\\python311\\lib\\site-packages (from pandas) (2.8.2)\n",
      "Collecting pytz>=2020.1 (from pandas)\n",
      "  Downloading pytz-2023.3-py2.py3-none-any.whl (502 kB)\n",
      "                                              0.0/502.3 kB ? eta -:--:--\n",
      "     ------------------------------------  501.8/502.3 kB 15.9 MB/s eta 0:00:01\n",
      "     ------------------------------------- 502.3/502.3 kB 10.7 MB/s eta 0:00:00\n",
      "Collecting tzdata>=2022.1 (from pandas)\n",
      "  Downloading tzdata-2023.3-py2.py3-none-any.whl (341 kB)\n",
      "                                              0.0/341.8 kB ? eta -:--:--\n",
      "     ------------------------------------- 341.8/341.8 kB 10.7 MB/s eta 0:00:00\n",
      "Requirement already satisfied: numpy>=1.21.0 in c:\\users\\itsc\\appdata\\local\\programs\\python\\python311\\lib\\site-packages (from pandas) (1.24.1)\n",
      "Requirement already satisfied: six>=1.5 in c:\\users\\itsc\\appdata\\local\\programs\\python\\python311\\lib\\site-packages (from python-dateutil>=2.8.2->pandas) (1.16.0)\n",
      "Installing collected packages: pytz, tzdata, pandas\n",
      "Successfully installed pandas-2.0.1 pytz-2023.3 tzdata-2023.3\n",
      "Collecting scikit-learn\n",
      "  Downloading scikit_learn-1.2.2-cp311-cp311-win_amd64.whl (8.3 MB)\n",
      "                                              0.0/8.3 MB ? eta -:--:--\n",
      "     -                                        0.4/8.3 MB 7.6 MB/s eta 0:00:02\n",
      "     ---                                      0.8/8.3 MB 10.4 MB/s eta 0:00:01\n",
      "     ------                                   1.3/8.3 MB 10.2 MB/s eta 0:00:01\n",
      "     --------                                 1.7/8.3 MB 10.1 MB/s eta 0:00:01\n",
      "     ----------                               2.2/8.3 MB 9.4 MB/s eta 0:00:01\n",
      "     -------------                            2.8/8.3 MB 10.1 MB/s eta 0:00:01\n",
      "     ----------------                         3.4/8.3 MB 9.8 MB/s eta 0:00:01\n",
      "     ------------------                       3.9/8.3 MB 10.0 MB/s eta 0:00:01\n",
      "     ---------------------                    4.4/8.3 MB 10.0 MB/s eta 0:00:01\n",
      "     -----------------------                  4.9/8.3 MB 10.1 MB/s eta 0:00:01\n",
      "     -------------------------                5.3/8.3 MB 10.0 MB/s eta 0:00:01\n",
      "     ----------------------------             5.8/8.3 MB 10.0 MB/s eta 0:00:01\n",
      "     ------------------------------           6.3/8.3 MB 10.0 MB/s eta 0:00:01\n",
      "     --------------------------------         6.8/8.3 MB 9.8 MB/s eta 0:00:01\n",
      "     -----------------------------------      7.3/8.3 MB 10.1 MB/s eta 0:00:01\n",
      "     -------------------------------------    7.7/8.3 MB 10.0 MB/s eta 0:00:01\n",
      "     ---------------------------------------  8.1/8.3 MB 10.0 MB/s eta 0:00:01\n",
      "     ---------------------------------------  8.3/8.3 MB 10.0 MB/s eta 0:00:01\n",
      "     ---------------------------------------- 8.3/8.3 MB 9.4 MB/s eta 0:00:00\n",
      "Requirement already satisfied: numpy>=1.17.3 in c:\\users\\itsc\\appdata\\local\\programs\\python\\python311\\lib\\site-packages (from scikit-learn) (1.24.1)\n",
      "Collecting scipy>=1.3.2 (from scikit-learn)\n",
      "  Downloading scipy-1.10.1-cp311-cp311-win_amd64.whl (42.2 MB)\n",
      "                                              0.0/42.2 MB ? eta -:--:--\n",
      "                                              0.2/42.2 MB 5.9 MB/s eta 0:00:08\n",
      "                                              0.7/42.2 MB 7.7 MB/s eta 0:00:06\n",
      "     -                                        1.1/42.2 MB 7.8 MB/s eta 0:00:06\n",
      "     -                                        1.5/42.2 MB 8.0 MB/s eta 0:00:06\n",
      "     -                                        1.9/42.2 MB 8.1 MB/s eta 0:00:05\n",
      "     --                                       2.3/42.2 MB 8.1 MB/s eta 0:00:05\n",
      "     --                                       2.7/42.2 MB 8.2 MB/s eta 0:00:05\n",
      "     --                                       3.1/42.2 MB 8.4 MB/s eta 0:00:05\n",
      "     ---                                      3.6/42.2 MB 8.5 MB/s eta 0:00:05\n",
      "     ---                                      4.0/42.2 MB 8.6 MB/s eta 0:00:05\n",
      "     ----                                     4.5/42.2 MB 8.6 MB/s eta 0:00:05\n",
      "     ----                                     4.8/42.2 MB 8.5 MB/s eta 0:00:05\n",
      "     ----                                     5.2/42.2 MB 8.6 MB/s eta 0:00:05\n",
      "     -----                                    5.7/42.2 MB 8.6 MB/s eta 0:00:05\n",
      "     -----                                    6.1/42.2 MB 8.7 MB/s eta 0:00:05\n",
      "     ------                                   6.5/42.2 MB 8.7 MB/s eta 0:00:05\n",
      "     ------                                   7.0/42.2 MB 8.6 MB/s eta 0:00:05\n",
      "     -------                                  7.5/42.2 MB 8.7 MB/s eta 0:00:05\n",
      "     -------                                  7.9/42.2 MB 8.7 MB/s eta 0:00:04\n",
      "     -------                                  8.4/42.2 MB 8.8 MB/s eta 0:00:04\n",
      "     --------                                 8.7/42.2 MB 8.7 MB/s eta 0:00:04\n",
      "     --------                                 8.9/42.2 MB 8.5 MB/s eta 0:00:04\n",
      "     --------                                 9.5/42.2 MB 8.6 MB/s eta 0:00:04\n",
      "     ---------                                9.9/42.2 MB 8.8 MB/s eta 0:00:04\n",
      "     ---------                                10.3/42.2 MB 8.7 MB/s eta 0:00:04\n",
      "     ----------                               10.8/42.2 MB 9.0 MB/s eta 0:00:04\n",
      "     ----------                               11.2/42.2 MB 9.1 MB/s eta 0:00:04\n",
      "     -----------                              11.7/42.2 MB 9.0 MB/s eta 0:00:04\n",
      "     -----------                              12.2/42.2 MB 9.2 MB/s eta 0:00:04\n",
      "     ------------                             12.7/42.2 MB 9.2 MB/s eta 0:00:04\n",
      "     ------------                             13.2/42.2 MB 9.2 MB/s eta 0:00:04\n",
      "     ------------                             13.6/42.2 MB 9.2 MB/s eta 0:00:04\n",
      "     -------------                            14.1/42.2 MB 9.2 MB/s eta 0:00:04\n",
      "     -------------                            14.5/42.2 MB 9.2 MB/s eta 0:00:04\n",
      "     --------------                           14.9/42.2 MB 9.1 MB/s eta 0:00:04\n",
      "     --------------                           15.3/42.2 MB 9.2 MB/s eta 0:00:03\n",
      "     --------------                           15.7/42.2 MB 9.4 MB/s eta 0:00:03\n",
      "     ---------------                          16.1/42.2 MB 9.4 MB/s eta 0:00:03\n",
      "     ---------------                          16.6/42.2 MB 9.4 MB/s eta 0:00:03\n",
      "     ----------------                         17.0/42.2 MB 9.4 MB/s eta 0:00:03\n",
      "     ----------------                         17.5/42.2 MB 9.4 MB/s eta 0:00:03\n",
      "     ----------------                         17.9/42.2 MB 9.4 MB/s eta 0:00:03\n",
      "     -----------------                        18.2/42.2 MB 9.4 MB/s eta 0:00:03\n",
      "     -----------------                        18.5/42.2 MB 9.1 MB/s eta 0:00:03\n",
      "     -----------------                        18.9/42.2 MB 9.1 MB/s eta 0:00:03\n",
      "     ------------------                       19.3/42.2 MB 9.2 MB/s eta 0:00:03\n",
      "     ------------------                       19.7/42.2 MB 9.2 MB/s eta 0:00:03\n",
      "     -------------------                      20.2/42.2 MB 9.2 MB/s eta 0:00:03\n",
      "     -------------------                      20.7/42.2 MB 9.2 MB/s eta 0:00:03\n",
      "     --------------------                     21.1/42.2 MB 9.2 MB/s eta 0:00:03\n",
      "     --------------------                     21.5/42.2 MB 9.2 MB/s eta 0:00:03\n",
      "     --------------------                     21.9/42.2 MB 9.2 MB/s eta 0:00:03\n",
      "     ---------------------                    22.4/42.2 MB 9.1 MB/s eta 0:00:03\n",
      "     ---------------------                    22.8/42.2 MB 9.1 MB/s eta 0:00:03\n",
      "     ----------------------                   23.3/42.2 MB 9.1 MB/s eta 0:00:03\n",
      "     ----------------------                   23.7/42.2 MB 9.0 MB/s eta 0:00:03\n",
      "     ----------------------                   24.0/42.2 MB 9.0 MB/s eta 0:00:03\n",
      "     -----------------------                  24.5/42.2 MB 9.0 MB/s eta 0:00:02\n",
      "     -----------------------                  25.0/42.2 MB 9.0 MB/s eta 0:00:02\n",
      "     ------------------------                 25.4/42.2 MB 9.0 MB/s eta 0:00:02\n",
      "     ------------------------                 25.8/42.2 MB 9.1 MB/s eta 0:00:02\n",
      "     ------------------------                 26.2/42.2 MB 9.1 MB/s eta 0:00:02\n",
      "     -------------------------                26.7/42.2 MB 9.2 MB/s eta 0:00:02\n",
      "     -------------------------                27.1/42.2 MB 9.0 MB/s eta 0:00:02\n",
      "     --------------------------               27.6/42.2 MB 9.1 MB/s eta 0:00:02\n",
      "     --------------------------               28.0/42.2 MB 9.0 MB/s eta 0:00:02\n",
      "     --------------------------               28.4/42.2 MB 9.2 MB/s eta 0:00:02\n",
      "     ---------------------------              28.9/42.2 MB 9.4 MB/s eta 0:00:02\n",
      "     ---------------------------              28.9/42.2 MB 9.1 MB/s eta 0:00:02\n",
      "     ---------------------------              29.4/42.2 MB 9.1 MB/s eta 0:00:02\n",
      "     ----------------------------             29.9/42.2 MB 9.1 MB/s eta 0:00:02\n",
      "     ----------------------------             30.3/42.2 MB 9.1 MB/s eta 0:00:02\n",
      "     -----------------------------            30.7/42.2 MB 9.1 MB/s eta 0:00:02\n",
      "     -----------------------------            31.2/42.2 MB 9.1 MB/s eta 0:00:02\n",
      "     -----------------------------            31.6/42.2 MB 9.1 MB/s eta 0:00:02\n",
      "     ------------------------------           32.1/42.2 MB 9.1 MB/s eta 0:00:02\n",
      "     ------------------------------           32.6/42.2 MB 9.1 MB/s eta 0:00:02\n",
      "     -------------------------------          33.1/42.2 MB 9.2 MB/s eta 0:00:01\n",
      "     -------------------------------          33.5/42.2 MB 9.2 MB/s eta 0:00:01\n",
      "     --------------------------------         33.9/42.2 MB 9.2 MB/s eta 0:00:01\n",
      "     --------------------------------         34.3/42.2 MB 9.2 MB/s eta 0:00:01\n",
      "     --------------------------------         34.7/42.2 MB 9.1 MB/s eta 0:00:01\n",
      "     ---------------------------------        35.1/42.2 MB 9.1 MB/s eta 0:00:01\n",
      "     ---------------------------------        35.5/42.2 MB 9.1 MB/s eta 0:00:01\n",
      "     ---------------------------------        35.8/42.2 MB 9.0 MB/s eta 0:00:01\n",
      "     ----------------------------------       36.3/42.2 MB 9.1 MB/s eta 0:00:01\n",
      "     ----------------------------------       36.7/42.2 MB 9.0 MB/s eta 0:00:01\n",
      "     -----------------------------------      37.1/42.2 MB 9.0 MB/s eta 0:00:01\n",
      "     -----------------------------------      37.5/42.2 MB 9.0 MB/s eta 0:00:01\n",
      "     -----------------------------------      38.0/42.2 MB 9.0 MB/s eta 0:00:01\n",
      "     ------------------------------------     38.3/42.2 MB 8.8 MB/s eta 0:00:01\n",
      "     ------------------------------------     38.6/42.2 MB 8.6 MB/s eta 0:00:01\n",
      "     ------------------------------------     38.8/42.2 MB 8.5 MB/s eta 0:00:01\n",
      "     -------------------------------------    39.2/42.2 MB 8.7 MB/s eta 0:00:01\n",
      "     -------------------------------------    39.6/42.2 MB 8.7 MB/s eta 0:00:01\n",
      "     -------------------------------------    40.0/42.2 MB 8.7 MB/s eta 0:00:01\n",
      "     --------------------------------------   40.4/42.2 MB 8.4 MB/s eta 0:00:01\n",
      "     --------------------------------------   41.0/42.2 MB 8.5 MB/s eta 0:00:01\n",
      "     ---------------------------------------  41.4/42.2 MB 8.4 MB/s eta 0:00:01\n",
      "     ---------------------------------------  41.6/42.2 MB 8.3 MB/s eta 0:00:01\n",
      "     ---------------------------------------  42.1/42.2 MB 8.2 MB/s eta 0:00:01\n",
      "     ---------------------------------------  42.2/42.2 MB 8.2 MB/s eta 0:00:01\n",
      "     ---------------------------------------  42.2/42.2 MB 8.2 MB/s eta 0:00:01\n",
      "     ---------------------------------------  42.2/42.2 MB 8.2 MB/s eta 0:00:01\n",
      "     ---------------------------------------  42.2/42.2 MB 8.2 MB/s eta 0:00:01\n",
      "     ---------------------------------------  42.2/42.2 MB 8.2 MB/s eta 0:00:01\n",
      "     ---------------------------------------- 42.2/42.2 MB 6.9 MB/s eta 0:00:00\n",
      "Collecting joblib>=1.1.1 (from scikit-learn)\n",
      "  Downloading joblib-1.2.0-py3-none-any.whl (297 kB)\n",
      "                                              0.0/298.0 kB ? eta -:--:--\n",
      "     -------------------------------------- 298.0/298.0 kB 9.3 MB/s eta 0:00:00\n",
      "Collecting threadpoolctl>=2.0.0 (from scikit-learn)\n",
      "  Downloading threadpoolctl-3.1.0-py3-none-any.whl (14 kB)\n",
      "Installing collected packages: threadpoolctl, scipy, joblib, scikit-learn\n",
      "Successfully installed joblib-1.2.0 scikit-learn-1.2.2 scipy-1.10.1 threadpoolctl-3.1.0\n"
     ]
    }
   ],
   "source": [
    "! pip install numpy\n",
    "! pip install pandas\n",
    "! pip install scikit-learn"
   ]
  },
  {
   "cell_type": "code",
   "execution_count": 7,
   "id": "fbd52d98",
   "metadata": {},
   "outputs": [],
   "source": [
    "from sklearn.datasets import load_iris\n",
    "from sklearn.tree import DecisionTreeClassifier\n",
    "from sklearn.model_selection import train_test_split"
   ]
  },
  {
   "cell_type": "code",
   "execution_count": 8,
   "id": "03fb49e3",
   "metadata": {},
   "outputs": [],
   "source": [
    "import pandas as pd"
   ]
  },
  {
   "cell_type": "code",
   "execution_count": 9,
   "id": "ba79f74f",
   "metadata": {},
   "outputs": [],
   "source": [
    "# 붓꽃 데이터 세트를 로딩합니다\n",
    "iris = load_iris()"
   ]
  },
  {
   "cell_type": "code",
   "execution_count": 11,
   "id": "84a5664f",
   "metadata": {},
   "outputs": [],
   "source": [
    "iris_data = iris.data"
   ]
  },
  {
   "cell_type": "code",
   "execution_count": 12,
   "id": "f4bc9849",
   "metadata": {},
   "outputs": [],
   "source": [
    "iris_label = iris.target"
   ]
  },
  {
   "cell_type": "code",
   "execution_count": 13,
   "id": "67ee91c3",
   "metadata": {},
   "outputs": [
    {
     "data": {
      "text/html": [
       "<div>\n",
       "<style scoped>\n",
       "    .dataframe tbody tr th:only-of-type {\n",
       "        vertical-align: middle;\n",
       "    }\n",
       "\n",
       "    .dataframe tbody tr th {\n",
       "        vertical-align: top;\n",
       "    }\n",
       "\n",
       "    .dataframe thead th {\n",
       "        text-align: right;\n",
       "    }\n",
       "</style>\n",
       "<table border=\"1\" class=\"dataframe\">\n",
       "  <thead>\n",
       "    <tr style=\"text-align: right;\">\n",
       "      <th></th>\n",
       "      <th>sepal length (cm)</th>\n",
       "      <th>sepal width (cm)</th>\n",
       "      <th>petal length (cm)</th>\n",
       "      <th>petal width (cm)</th>\n",
       "      <th>label</th>\n",
       "    </tr>\n",
       "  </thead>\n",
       "  <tbody>\n",
       "    <tr>\n",
       "      <th>0</th>\n",
       "      <td>5.1</td>\n",
       "      <td>3.5</td>\n",
       "      <td>1.4</td>\n",
       "      <td>0.2</td>\n",
       "      <td>0</td>\n",
       "    </tr>\n",
       "    <tr>\n",
       "      <th>1</th>\n",
       "      <td>4.9</td>\n",
       "      <td>3.0</td>\n",
       "      <td>1.4</td>\n",
       "      <td>0.2</td>\n",
       "      <td>0</td>\n",
       "    </tr>\n",
       "    <tr>\n",
       "      <th>2</th>\n",
       "      <td>4.7</td>\n",
       "      <td>3.2</td>\n",
       "      <td>1.3</td>\n",
       "      <td>0.2</td>\n",
       "      <td>0</td>\n",
       "    </tr>\n",
       "  </tbody>\n",
       "</table>\n",
       "</div>"
      ],
      "text/plain": [
       "   sepal length (cm)  sepal width (cm)  petal length (cm)  petal width (cm)   \n",
       "0                5.1               3.5                1.4               0.2  \\\n",
       "1                4.9               3.0                1.4               0.2   \n",
       "2                4.7               3.2                1.3               0.2   \n",
       "\n",
       "   label  \n",
       "0      0  \n",
       "1      0  \n",
       "2      0  "
      ]
     },
     "execution_count": 13,
     "metadata": {},
     "output_type": "execute_result"
    }
   ],
   "source": [
    "# 붓꽃 데이터 세트를 DataFrame으로 변환\n",
    "iris_df = pd.DataFrame(data=iris_data, columns=iris.feature_names)\n",
    "iris_df['label'] = iris.target\n",
    "iris_df.head(3)"
   ]
  },
  {
   "cell_type": "code",
   "execution_count": 14,
   "id": "3d5cae74",
   "metadata": {},
   "outputs": [],
   "source": [
    "X_train, X_test, y_train, y_test = train_test_split(iris_data, iris_label,test_size=0.2, random_state=11)"
   ]
  },
  {
   "cell_type": "code",
   "execution_count": 15,
   "id": "506992b4",
   "metadata": {},
   "outputs": [],
   "source": [
    "# 의사결정트리 모델\n",
    "df_clf = DecisionTreeClassifier(random_state=11)"
   ]
  },
  {
   "cell_type": "code",
   "execution_count": 16,
   "id": "52a5f174",
   "metadata": {},
   "outputs": [
    {
     "data": {
      "text/html": [
       "<style>#sk-container-id-1 {color: black;background-color: white;}#sk-container-id-1 pre{padding: 0;}#sk-container-id-1 div.sk-toggleable {background-color: white;}#sk-container-id-1 label.sk-toggleable__label {cursor: pointer;display: block;width: 100%;margin-bottom: 0;padding: 0.3em;box-sizing: border-box;text-align: center;}#sk-container-id-1 label.sk-toggleable__label-arrow:before {content: \"▸\";float: left;margin-right: 0.25em;color: #696969;}#sk-container-id-1 label.sk-toggleable__label-arrow:hover:before {color: black;}#sk-container-id-1 div.sk-estimator:hover label.sk-toggleable__label-arrow:before {color: black;}#sk-container-id-1 div.sk-toggleable__content {max-height: 0;max-width: 0;overflow: hidden;text-align: left;background-color: #f0f8ff;}#sk-container-id-1 div.sk-toggleable__content pre {margin: 0.2em;color: black;border-radius: 0.25em;background-color: #f0f8ff;}#sk-container-id-1 input.sk-toggleable__control:checked~div.sk-toggleable__content {max-height: 200px;max-width: 100%;overflow: auto;}#sk-container-id-1 input.sk-toggleable__control:checked~label.sk-toggleable__label-arrow:before {content: \"▾\";}#sk-container-id-1 div.sk-estimator input.sk-toggleable__control:checked~label.sk-toggleable__label {background-color: #d4ebff;}#sk-container-id-1 div.sk-label input.sk-toggleable__control:checked~label.sk-toggleable__label {background-color: #d4ebff;}#sk-container-id-1 input.sk-hidden--visually {border: 0;clip: rect(1px 1px 1px 1px);clip: rect(1px, 1px, 1px, 1px);height: 1px;margin: -1px;overflow: hidden;padding: 0;position: absolute;width: 1px;}#sk-container-id-1 div.sk-estimator {font-family: monospace;background-color: #f0f8ff;border: 1px dotted black;border-radius: 0.25em;box-sizing: border-box;margin-bottom: 0.5em;}#sk-container-id-1 div.sk-estimator:hover {background-color: #d4ebff;}#sk-container-id-1 div.sk-parallel-item::after {content: \"\";width: 100%;border-bottom: 1px solid gray;flex-grow: 1;}#sk-container-id-1 div.sk-label:hover label.sk-toggleable__label {background-color: #d4ebff;}#sk-container-id-1 div.sk-serial::before {content: \"\";position: absolute;border-left: 1px solid gray;box-sizing: border-box;top: 0;bottom: 0;left: 50%;z-index: 0;}#sk-container-id-1 div.sk-serial {display: flex;flex-direction: column;align-items: center;background-color: white;padding-right: 0.2em;padding-left: 0.2em;position: relative;}#sk-container-id-1 div.sk-item {position: relative;z-index: 1;}#sk-container-id-1 div.sk-parallel {display: flex;align-items: stretch;justify-content: center;background-color: white;position: relative;}#sk-container-id-1 div.sk-item::before, #sk-container-id-1 div.sk-parallel-item::before {content: \"\";position: absolute;border-left: 1px solid gray;box-sizing: border-box;top: 0;bottom: 0;left: 50%;z-index: -1;}#sk-container-id-1 div.sk-parallel-item {display: flex;flex-direction: column;z-index: 1;position: relative;background-color: white;}#sk-container-id-1 div.sk-parallel-item:first-child::after {align-self: flex-end;width: 50%;}#sk-container-id-1 div.sk-parallel-item:last-child::after {align-self: flex-start;width: 50%;}#sk-container-id-1 div.sk-parallel-item:only-child::after {width: 0;}#sk-container-id-1 div.sk-dashed-wrapped {border: 1px dashed gray;margin: 0 0.4em 0.5em 0.4em;box-sizing: border-box;padding-bottom: 0.4em;background-color: white;}#sk-container-id-1 div.sk-label label {font-family: monospace;font-weight: bold;display: inline-block;line-height: 1.2em;}#sk-container-id-1 div.sk-label-container {text-align: center;}#sk-container-id-1 div.sk-container {/* jupyter's `normalize.less` sets `[hidden] { display: none; }` but bootstrap.min.css set `[hidden] { display: none !important; }` so we also need the `!important` here to be able to override the default hidden behavior on the sphinx rendered scikit-learn.org. See: https://github.com/scikit-learn/scikit-learn/issues/21755 */display: inline-block !important;position: relative;}#sk-container-id-1 div.sk-text-repr-fallback {display: none;}</style><div id=\"sk-container-id-1\" class=\"sk-top-container\"><div class=\"sk-text-repr-fallback\"><pre>DecisionTreeClassifier(random_state=11)</pre><b>In a Jupyter environment, please rerun this cell to show the HTML representation or trust the notebook. <br />On GitHub, the HTML representation is unable to render, please try loading this page with nbviewer.org.</b></div><div class=\"sk-container\" hidden><div class=\"sk-item\"><div class=\"sk-estimator sk-toggleable\"><input class=\"sk-toggleable__control sk-hidden--visually\" id=\"sk-estimator-id-1\" type=\"checkbox\" checked><label for=\"sk-estimator-id-1\" class=\"sk-toggleable__label sk-toggleable__label-arrow\">DecisionTreeClassifier</label><div class=\"sk-toggleable__content\"><pre>DecisionTreeClassifier(random_state=11)</pre></div></div></div></div></div>"
      ],
      "text/plain": [
       "DecisionTreeClassifier(random_state=11)"
      ]
     },
     "execution_count": 16,
     "metadata": {},
     "output_type": "execute_result"
    }
   ],
   "source": [
    "# 학습 수행\n",
    "df_clf.fit(X_train, y_train)"
   ]
  },
  {
   "cell_type": "code",
   "execution_count": 17,
   "id": "d684119b",
   "metadata": {},
   "outputs": [],
   "source": [
    "# 학습모델로 예측테스트\n",
    "pred = df_clf.predict(X_test)"
   ]
  },
  {
   "cell_type": "code",
   "execution_count": 19,
   "id": "d6e8e07e",
   "metadata": {},
   "outputs": [
    {
     "data": {
      "text/plain": [
       "array([[6.8, 3. , 5.5, 2.1],\n",
       "       [6.7, 3. , 5.2, 2.3],\n",
       "       [6.3, 2.8, 5.1, 1.5],\n",
       "       [6.3, 3.3, 4.7, 1.6],\n",
       "       [6.4, 2.7, 5.3, 1.9],\n",
       "       [4.9, 3.1, 1.5, 0.1],\n",
       "       [6.7, 3.1, 4.4, 1.4],\n",
       "       [5.7, 4.4, 1.5, 0.4],\n",
       "       [4.8, 3.1, 1.6, 0.2],\n",
       "       [6.1, 2.9, 4.7, 1.4],\n",
       "       [6. , 2.2, 5. , 1.5],\n",
       "       [6. , 2.2, 4. , 1. ],\n",
       "       [5.4, 3. , 4.5, 1.5],\n",
       "       [5.7, 2.5, 5. , 2. ],\n",
       "       [6.9, 3.1, 5.4, 2.1],\n",
       "       [4.5, 2.3, 1.3, 0.3],\n",
       "       [6.3, 2.9, 5.6, 1.8],\n",
       "       [5.6, 3. , 4.5, 1.5],\n",
       "       [6.5, 3.2, 5.1, 2. ],\n",
       "       [5.8, 2.7, 5.1, 1.9],\n",
       "       [5.6, 2.5, 3.9, 1.1],\n",
       "       [4.7, 3.2, 1.3, 0.2],\n",
       "       [4.6, 3.6, 1. , 0.2],\n",
       "       [6.4, 3.2, 4.5, 1.5],\n",
       "       [4.8, 3. , 1.4, 0.1],\n",
       "       [4.8, 3.4, 1.6, 0.2],\n",
       "       [5.9, 3. , 5.1, 1.8],\n",
       "       [6.6, 3. , 4.4, 1.4],\n",
       "       [5.4, 3.9, 1.3, 0.4],\n",
       "       [6. , 3.4, 4.5, 1.6]])"
      ]
     },
     "execution_count": 19,
     "metadata": {},
     "output_type": "execute_result"
    }
   ],
   "source": [
    "X_test"
   ]
  },
  {
   "cell_type": "code",
   "execution_count": 21,
   "id": "5cbbbc88",
   "metadata": {},
   "outputs": [
    {
     "data": {
      "text/plain": [
       "array([2, 2, 1, 1, 2, 0, 1, 0, 0, 1, 1, 1, 1, 2, 2, 0, 2, 1, 2, 2, 1, 0,\n",
       "       0, 1, 0, 0, 2, 1, 0, 1])"
      ]
     },
     "execution_count": 21,
     "metadata": {},
     "output_type": "execute_result"
    }
   ],
   "source": [
    "pred"
   ]
  },
  {
   "cell_type": "code",
   "execution_count": 22,
   "id": "856fe4b2",
   "metadata": {},
   "outputs": [
    {
     "name": "stdout",
     "output_type": "stream",
     "text": [
      "예측 정확도: 0.9333\n"
     ]
    }
   ],
   "source": [
    "from sklearn.metrics import accuracy_score\n",
    "print('예측 정확도: {0:.4f}'.format(accuracy_score(y_test, pred)))"
   ]
  },
  {
   "cell_type": "code",
   "execution_count": 24,
   "id": "87d612a2",
   "metadata": {},
   "outputs": [
    {
     "data": {
      "text/plain": [
       "array([0, 2])"
      ]
     },
     "execution_count": 24,
     "metadata": {},
     "output_type": "execute_result"
    }
   ],
   "source": [
    "new_data = [[5.1, 3.5, 1.4, 0.2], [6.2, 3.4, 5.4, 2.3]]\n",
    "new_pred = df_clf.predict(new_data)\n",
    "\n",
    "new_pred"
   ]
  },
  {
   "cell_type": "code",
   "execution_count": 25,
   "id": "ea2e7e21",
   "metadata": {},
   "outputs": [
    {
     "data": {
      "text/plain": [
       "['model.joblib']"
      ]
     },
     "execution_count": 25,
     "metadata": {},
     "output_type": "execute_result"
    }
   ],
   "source": [
    "import joblib\n",
    "joblib.dump(df_clf, \"model.joblib\")"
   ]
  },
  {
   "cell_type": "code",
   "execution_count": 26,
   "id": "c0606b3d",
   "metadata": {},
   "outputs": [],
   "source": [
    "loaded_model = joblib.load(\"model.joblib\")"
   ]
  },
  {
   "cell_type": "code",
   "execution_count": 27,
   "id": "cda94a8d",
   "metadata": {},
   "outputs": [
    {
     "data": {
      "text/plain": [
       "array([0, 2])"
      ]
     },
     "execution_count": 27,
     "metadata": {},
     "output_type": "execute_result"
    }
   ],
   "source": [
    "loaded_model.predict(new_data)"
   ]
  },
  {
   "cell_type": "code",
   "execution_count": null,
   "id": "f69314c3",
   "metadata": {},
   "outputs": [],
   "source": []
  }
 ],
 "metadata": {
  "kernelspec": {
   "display_name": "Python 3 (ipykernel)",
   "language": "python",
   "name": "python3"
  },
  "language_info": {
   "codemirror_mode": {
    "name": "ipython",
    "version": 3
   },
   "file_extension": ".py",
   "mimetype": "text/x-python",
   "name": "python",
   "nbconvert_exporter": "python",
   "pygments_lexer": "ipython3",
   "version": "3.11.0"
  }
 },
 "nbformat": 4,
 "nbformat_minor": 5
}
